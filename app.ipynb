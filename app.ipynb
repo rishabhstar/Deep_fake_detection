{
 "cells": [
  {
   "cell_type": "code",
   "execution_count": 2,
   "id": "13ec9c84-8bd4-4d7a-8ef7-4d7a6c3c18d0",
   "metadata": {
    "tags": []
   },
   "outputs": [
    {
     "name": "stdout",
     "output_type": "stream",
     "text": [
      "Collecting Flask\n",
      "  Downloading flask-3.0.2-py3-none-any.whl.metadata (3.6 kB)\n",
      "Requirement already satisfied: Werkzeug>=3.0.0 in /opt/conda/lib/python3.10/site-packages (from Flask) (3.0.1)\n",
      "Requirement already satisfied: Jinja2>=3.1.2 in /opt/conda/lib/python3.10/site-packages (from Flask) (3.1.3)\n",
      "Collecting itsdangerous>=2.1.2 (from Flask)\n",
      "  Downloading itsdangerous-2.1.2-py3-none-any.whl.metadata (2.9 kB)\n",
      "Requirement already satisfied: click>=8.1.3 in /opt/conda/lib/python3.10/site-packages (from Flask) (8.1.7)\n",
      "Collecting blinker>=1.6.2 (from Flask)\n",
      "  Downloading blinker-1.7.0-py3-none-any.whl.metadata (1.9 kB)\n",
      "Requirement already satisfied: MarkupSafe>=2.0 in /opt/conda/lib/python3.10/site-packages (from Jinja2>=3.1.2->Flask) (2.1.5)\n",
      "Downloading flask-3.0.2-py3-none-any.whl (101 kB)\n",
      "\u001b[2K   \u001b[90m━━━━━━━━━━━━━━━━━━━━━━━━━━━━━━━━━━━━━━━━\u001b[0m \u001b[32m101.3/101.3 kB\u001b[0m \u001b[31m1.6 MB/s\u001b[0m eta \u001b[36m0:00:00\u001b[0m \u001b[36m0:00:01\u001b[0m\n",
      "\u001b[?25hDownloading blinker-1.7.0-py3-none-any.whl (13 kB)\n",
      "Downloading itsdangerous-2.1.2-py3-none-any.whl (15 kB)\n",
      "Installing collected packages: itsdangerous, blinker, Flask\n",
      "Successfully installed Flask-3.0.2 blinker-1.7.0 itsdangerous-2.1.2\n"
     ]
    }
   ],
   "source": [
    "!pip install Flask"
   ]
  },
  {
   "cell_type": "code",
   "execution_count": 3,
   "id": "bebc0735-5397-4f49-9b9c-15ef81fbf61f",
   "metadata": {
    "tags": []
   },
   "outputs": [],
   "source": [
    "import json\n",
    "from flask import Flask, jsonify, request\n"
   ]
  },
  {
   "cell_type": "code",
   "execution_count": 9,
   "id": "3132e48c-f460-4b8a-8dd9-77693d09830c",
   "metadata": {
    "tags": []
   },
   "outputs": [
    {
     "name": "stdout",
     "output_type": "stream",
     "text": [
      " * Serving Flask app '__main__'\n",
      " * Debug mode: off\n"
     ]
    },
    {
     "name": "stderr",
     "output_type": "stream",
     "text": [
      "WARNING: This is a development server. Do not use it in a production deployment. Use a production WSGI server instead.\n",
      " * Running on http://127.0.0.1:5000\n",
      "Press CTRL+C to quit\n"
     ]
    }
   ],
   "source": [
    "app = Flask(__name__)\n",
    "\n",
    "@app.route('/voice/detection', methods=['GET'])\n",
    "def get_employees():\n",
    "     return jsonify(employees)\n",
    "\n",
    "@app.route('/employees/<int:id>', methods=['GET'])\n",
    "def get_employee_by_id(id: int):\n",
    "     employee = get_employee(id)\n",
    "     if employee is None:\n",
    "       return jsonify({ 'error': 'Employee does not exist'}), 404\n",
    "     return jsonify(employee)\n",
    "\n",
    "def get_employee(id):\n",
    "     return next((e for e in employees if e['id'] == id), None)\n",
    "\n",
    "def employee_is_valid(employee):\n",
    "     for key in employee.keys():\n",
    "       if key != 'name':\n",
    "        return False\n",
    "     return True\n",
    "\n",
    "@app.route('/employees', methods=['POST'])\n",
    "def create_employee():\n",
    "     global nextEmployeeId\n",
    "     employee = json.loads(request.data)\n",
    "     if not employee_is_valid(employee):\n",
    "       return jsonify({ 'error': 'Invalid employee properties.' }), 400\n",
    "\n",
    "     employee['id'] = nextEmployeeId\n",
    "     nextEmployeeId += 1\n",
    "     employees.append(employee)\n",
    "\n",
    "     return '', 201, { 'location': f'/employees/{employee[\"id\"]}' }\n",
    "\n",
    "@app.route('/employees/<int:id>', methods=['PUT'])\n",
    "def update_employee(id: int):\n",
    "     employee = get_employee(id)\n",
    "     if employee is None:\n",
    "       return jsonify({ 'error': 'Employee does not exist.' }), 404\n",
    "\n",
    "     updated_employee = json.loads(request.data)\n",
    "     if not employee_is_valid(updated_employee):\n",
    "       return jsonify({ 'error': 'Invalid employee properties.' }), 400\n",
    "\n",
    "     employee.update(updated_employee)\n",
    "\n",
    "     return jsonify(employee)\n",
    "\n",
    "@app.route('/employees/<int:id>', methods=['DELETE'])\n",
    "def delete_employee(id: int):\n",
    "     global employees\n",
    "     employee = get_employee(id)\n",
    "     if employee is None:\n",
    "       return jsonify({ 'error': 'Employee does not exist.' }), 404\n",
    "\n",
    "     employees = [e for e in employees if e['id'] != id]\n",
    "     return jsonify(employee), 200\n",
    "\n",
    "if __name__ == '__main__':\n",
    "   app.run(port=5000)"
   ]
  },
  {
   "cell_type": "code",
   "execution_count": 11,
   "id": "acb76594-e726-47ad-b53a-080abc45216d",
   "metadata": {},
   "outputs": [
    {
     "name": "stdout",
     "output_type": "stream",
     "text": [
      " * Serving Flask app '__main__'\n",
      " * Debug mode: on\n"
     ]
    },
    {
     "name": "stderr",
     "output_type": "stream",
     "text": [
      "WARNING: This is a development server. Do not use it in a production deployment. Use a production WSGI server instead.\n",
      " * Running on http://127.0.0.1:4444\n",
      "Press CTRL+C to quit\n",
      " * Restarting with stat\n",
      "Traceback (most recent call last):\n",
      "  File \"/opt/conda/lib/python3.10/runpy.py\", line 196, in _run_module_as_main\n",
      "    return _run_code(code, main_globals, None,\n",
      "  File \"/opt/conda/lib/python3.10/runpy.py\", line 86, in _run_code\n",
      "    exec(code, run_globals)\n",
      "  File \"/opt/conda/lib/python3.10/site-packages/ipykernel_launcher.py\", line 18, in <module>\n",
      "    app.launch_new_instance()\n",
      "  File \"/opt/conda/lib/python3.10/site-packages/traitlets/config/application.py\", line 1074, in launch_instance\n",
      "    app.initialize(argv)\n",
      "  File \"/opt/conda/lib/python3.10/site-packages/traitlets/config/application.py\", line 118, in inner\n",
      "    return method(app, *args, **kwargs)\n",
      "  File \"/opt/conda/lib/python3.10/site-packages/ipykernel/kernelapp.py\", line 692, in initialize\n",
      "    self.init_sockets()\n",
      "  File \"/opt/conda/lib/python3.10/site-packages/ipykernel/kernelapp.py\", line 331, in init_sockets\n",
      "    self.shell_port = self._bind_socket(self.shell_socket, self.shell_port)\n",
      "  File \"/opt/conda/lib/python3.10/site-packages/ipykernel/kernelapp.py\", line 253, in _bind_socket\n",
      "    return self._try_bind_socket(s, port)\n",
      "  File \"/opt/conda/lib/python3.10/site-packages/ipykernel/kernelapp.py\", line 229, in _try_bind_socket\n",
      "    s.bind(\"tcp://%s:%i\" % (self.ip, port))\n",
      "  File \"/opt/conda/lib/python3.10/site-packages/zmq/sugar/socket.py\", line 232, in bind\n",
      "    super().bind(addr)\n",
      "  File \"zmq/backend/cython/socket.pyx\", line 568, in zmq.backend.cython.socket.Socket.bind\n",
      "  File \"zmq/backend/cython/checkrc.pxd\", line 28, in zmq.backend.cython.checkrc._check_rc\n",
      "zmq.error.ZMQError: Address already in use\n"
     ]
    },
    {
     "ename": "SystemExit",
     "evalue": "1",
     "output_type": "error",
     "traceback": [
      "An exception has occurred, use %tb to see the full traceback.\n",
      "\u001b[0;31mSystemExit\u001b[0m\u001b[0;31m:\u001b[0m 1\n"
     ]
    }
   ],
   "source": [
    "from flask import Flask, render_template, request, jsonify\n",
    "import librosa\n",
    "import pickle\n",
    "import numpy as np\n",
    "\n",
    "app = Flask(__name__)\n",
    "model_pkl_file = \"Xg_Boost_model.pkl\" \n",
    "\n",
    "def detect_fake(file):\n",
    "    sound_signal, sample_rate = librosa.load(file, res_type=\"kaiser_fast\")\n",
    "    mfcc_features = librosa.feature.mfcc(y=sound_signal, sr=sample_rate, n_mfcc=40)\n",
    "    mfccs_features_scaled = np.mean(mfcc_features.T, axis=0)\n",
    "    mfccs_features_scaled = mfccs_features_scaled.reshape(1, -1)\n",
    "    result_array = model.predict(mfccs_features_scaled)\n",
    "    print(result_array)\n",
    "    result_classes = [\"FAKE\", \"REAL\"]\n",
    "    result = np.argmax(result_array[0])\n",
    "    print(\"Result:\", result_classes[result])\n",
    "\t\n",
    "@app.route('/upload', methods = ['GET', 'POST'])\n",
    "def upload_file():\n",
    "    if request.method == 'POST':\n",
    "      f = request.files['file']\n",
    "      with open(model_pkl_file, 'rb') as file:  \n",
    "          model = pickle.load(file)\n",
    "    sound_signal, sample_rate = librosa.load(f, res_type=\"kaiser_fast\")\n",
    "    mfcc_features = librosa.feature.mfcc(y=sound_signal, sr=sample_rate, n_mfcc=40)\n",
    "    mfccs_features_scaled = np.mean(mfcc_features.T, axis=0)\n",
    "    mfccs_features_scaled = mfccs_features_scaled.reshape(1, -1)\n",
    "    result_array = model.predict(mfccs_features_scaled)\n",
    "    print(result_array)\n",
    "    result_classes = [\"FAKE\", \"REAL\"]\n",
    "    result = np.argmax(result_array[0])\n",
    "    print(\"Result:\", result_classes[result])\n",
    "\n",
    "    return result_classes[result] \n",
    "@app.route('/uploader', methods = ['GET', 'POST'])\n",
    "def uploaded_file():\n",
    "    print(\"inside\")\n",
    "    return \"Ok\"\n",
    "\t\t\n",
    "if __name__ == '__main__':\n",
    "   app.run(debug = True,port=4444)"
   ]
  },
  {
   "cell_type": "code",
   "execution_count": null,
   "id": "ef0bace1-0c57-4ede-9b37-dcd79ad78fc9",
   "metadata": {},
   "outputs": [],
   "source": []
  }
 ],
 "metadata": {
  "environment": {
   "kernel": "conda-root-py",
   "name": "workbench-notebooks.m118",
   "type": "gcloud",
   "uri": "us-docker.pkg.dev/deeplearning-platform-release/gcr.io/workbench-notebooks:m118"
  },
  "kernelspec": {
   "display_name": "Python 3 (ipykernel)",
   "language": "python",
   "name": "conda-root-py"
  },
  "language_info": {
   "codemirror_mode": {
    "name": "ipython",
    "version": 3
   },
   "file_extension": ".py",
   "mimetype": "text/x-python",
   "name": "python",
   "nbconvert_exporter": "python",
   "pygments_lexer": "ipython3",
   "version": "3.10.13"
  }
 },
 "nbformat": 4,
 "nbformat_minor": 5
}
